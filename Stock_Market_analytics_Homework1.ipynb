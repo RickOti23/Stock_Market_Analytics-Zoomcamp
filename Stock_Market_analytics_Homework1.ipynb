{
  "nbformat": 4,
  "nbformat_minor": 0,
  "metadata": {
    "colab": {
      "provenance": [],
      "authorship_tag": "ABX9TyOHt95rYE76BNsBZLhbjSq/",
      "include_colab_link": true
    },
    "kernelspec": {
      "name": "python3",
      "display_name": "Python 3"
    },
    "language_info": {
      "name": "python"
    }
  },
  "cells": [
    {
      "cell_type": "markdown",
      "metadata": {
        "id": "view-in-github",
        "colab_type": "text"
      },
      "source": [
        "<a href=\"https://colab.research.google.com/github/RickOti23/Stock_Market_Analytics-Zoomcamp/blob/main/Stock_Market_analytics_Homework1.ipynb\" target=\"_parent\"><img src=\"https://colab.research.google.com/assets/colab-badge.svg\" alt=\"Open In Colab\"/></a>"
      ]
    },
    {
      "cell_type": "markdown",
      "source": [
        "### Question 1: [Index] S&P 500 Stocks Added to the Index\n",
        "Which year had the highest number of additions?\n",
        "\n",
        "Using the list of S&P 500 companies from [Wikipedia's S&P 500 companies page](https://https://en.wikipedia.org/wiki/List_of_S%26P_500_companies), download the data including the year each company was added to the index.\n",
        "\n",
        "Create a DataFrame with company tickers, names, and the year they were added.\n",
        "Extract the year from the addition date and calculate the number of stocks added each year.\n",
        "Which year had the highest number of additions (1957 doesn't count, as it was the year when the S&P 500 index was founded)? Write down this year as your answer (the most recent one, if you have several records)."
      ],
      "metadata": {
        "id": "b6R5PXwgJk03"
      }
    },
    {
      "cell_type": "code",
      "execution_count": null,
      "metadata": {
        "colab": {
          "base_uri": "https://localhost:8080/"
        },
        "id": "FYmqudeAE3yb",
        "outputId": "352c52d5-239b-4b4e-82fa-9e7ab0629353"
      },
      "outputs": [
        {
          "output_type": "stream",
          "name": "stdout",
          "text": [
            "Year\n",
            "1957    53\n",
            "2017    23\n",
            "2016    23\n",
            "2019    22\n",
            "2008    17\n",
            "Name: count, dtype: int64\n",
            "\n",
            "\n",
            "ignoring 1957 additions, the latest year should be 2017\n"
          ]
        }
      ],
      "source": [
        "import pandas as pd\n",
        "from datetime import datetime as dt\n",
        "df = pd.read_html(\"https://en.wikipedia.org/wiki/List_of_S%26P_500_companies\")[0]\n",
        "df[\"Date added\"] = pd.to_datetime(df[\"Date added\"])\n",
        "df[\"Year\"] = df[\"Date added\"].dt.year\n",
        "df = df[[\"Symbol\",\"Security\",\"Date added\",\"Year\"]]\n",
        "print(df[\"Year\"].value_counts().head(5))\n",
        "print(\"\\n\")\n",
        "print(\"ignoring 1957 additions, the latest year should be 2017\")"
      ]
    },
    {
      "cell_type": "markdown",
      "source": [
        "# Additional:\n",
        "How many current S&P 500 stocks have been in the index for more than 20 years? When stocks are added to the S&P 500, they usually experience a price bump as investors and index funds buy shares following the announcement."
      ],
      "metadata": {
        "id": "AbF7eAvHJ5_K"
      }
    },
    {
      "cell_type": "code",
      "source": [
        "df[\"Current Year\"] = dt.today().year\n",
        "df[\"Period\"] = df[\"Current Year\"] - df[\"Year\"]\n",
        "x = df[df[\"Period\"] > 20].shape[0]\n",
        "print(f'{x} Companies have been there for more than 20 years')"
      ],
      "metadata": {
        "colab": {
          "base_uri": "https://localhost:8080/"
        },
        "id": "hbxJ0TneIsou",
        "outputId": "5c1eba8f-8edb-49ca-f9f8-cb59414c0fed"
      },
      "execution_count": null,
      "outputs": [
        {
          "output_type": "stream",
          "name": "stdout",
          "text": [
            "219 Companies have been there for more than 20 years\n"
          ]
        },
        {
          "output_type": "stream",
          "name": "stderr",
          "text": [
            "<ipython-input-72-de6de62bb3f7>:1: SettingWithCopyWarning: \n",
            "A value is trying to be set on a copy of a slice from a DataFrame.\n",
            "Try using .loc[row_indexer,col_indexer] = value instead\n",
            "\n",
            "See the caveats in the documentation: https://pandas.pydata.org/pandas-docs/stable/user_guide/indexing.html#returning-a-view-versus-a-copy\n",
            "  df[\"Current Year\"] = dt.today().year\n",
            "<ipython-input-72-de6de62bb3f7>:2: SettingWithCopyWarning: \n",
            "A value is trying to be set on a copy of a slice from a DataFrame.\n",
            "Try using .loc[row_indexer,col_indexer] = value instead\n",
            "\n",
            "See the caveats in the documentation: https://pandas.pydata.org/pandas-docs/stable/user_guide/indexing.html#returning-a-view-versus-a-copy\n",
            "  df[\"Period\"] = df[\"Current Year\"] - df[\"Year\"]\n"
          ]
        }
      ]
    },
    {
      "cell_type": "markdown",
      "source": [
        "# Question 2. [Macro] Indexes YTD (as of 1 May 2025)\n",
        "How many indexes (out of 10) have better year-to-date returns than the US (S&P 500) as of May 1, 2025?\n",
        "\n",
        "Using Yahoo Finance World Indices data, compare the year-to-date (YTD) performance (1 January-1 May 2025) of major stock market indexes for the following countries:\n",
        "\n",
        "United States - S&P 500 (^GSPC)\n",
        "China - Shanghai Composite (000001.SS)\n",
        "Hong Kong - HANG SENG INDEX (^HSI)\n",
        "Australia - S&P/ASX 200 (^AXJO)\n",
        "India - Nifty 50 (^NSEI)\n",
        "Canada - S&P/TSX Composite (^GSPTSE)\n",
        "Germany - DAX (^GDAXI)\n",
        "United Kingdom - FTSE 100 (^FTSE)\n",
        "Japan - Nikkei 225 (^N225)\n",
        "Mexico - IPC Mexico (^MXX)\n",
        "Brazil - Ibovespa (^BVSP)\n",
        "Hint: use start_date='2025-01-01' and end_date='2025-05-01' when downloading daily data in yfinance"
      ],
      "metadata": {
        "id": "-6oajzA1Kdu7"
      }
    },
    {
      "cell_type": "code",
      "source": [
        "import yfinance as yf\n",
        "import pandas as pd\n",
        "\n",
        "indices = {\n",
        "    \"^GSPC\": \"S&P 500 (US)\",\n",
        "    \"000001.SS\": \"Shanghai Composite (China)\",\n",
        "    \"^HSI\": \"Hang Seng (Hong Kong)\",\n",
        "    \"^AXJO\": \"ASX 200 (Australia)\",\n",
        "    \"^NSEI\": \"Nifty 50 (India)\",\n",
        "    \"^GSPTSE\": \"S&P/TSX (Canada)\",\n",
        "    \"^GDAXI\": \"DAX (Germany)\",\n",
        "    \"^FTSE\": \"FTSE 100 (UK)\",\n",
        "    \"^N225\": \"Nikkei 225 (Japan)\",\n",
        "    \"^MXX\": \"IPC (Mexico)\",\n",
        "    \"^BVSP\": \"Ibovespa (Brazil)\"\n",
        "}\n",
        "\n",
        "returns = {}\n",
        "\n",
        "start_date = \"2025-01-01\"\n",
        "end_date = \"2025-05-01\"\n",
        "\n",
        "for symbol, name in indices.items():\n",
        "    ticker = yf.Ticker(symbol)\n",
        "    data = ticker.history(start=start_date, end=end_date, interval=\"1d\")\n",
        "\n",
        "    if data.empty:\n",
        "        print(f\"No data for {name} ({symbol})\")\n",
        "        continue\n",
        "\n",
        "    start_price = data.iloc[0][\"Close\"]\n",
        "    end_price = data.iloc[-1][\"Close\"]\n",
        "\n",
        "    ytd_return = ((end_price - start_price) / start_price) * 100\n",
        "    returns[name] = round(ytd_return, 2)\n",
        "returns_df = pd.DataFrame.from_dict(returns,orient=\"index\",columns=[\"YTD Return\"])\n",
        "x = returns_df[returns_df[\"YTD Return\"]>round(returns_df.loc[\"S&P 500 (US)\"][\"YTD Return\"],2)].shape[0]\n",
        "print(f'We have {x} indices that have more returns YTD compared to S&P 500 (US) as of {end_date} from {start_date}.')"
      ],
      "metadata": {
        "colab": {
          "base_uri": "https://localhost:8080/"
        },
        "id": "y_-Nab8DHm4c",
        "outputId": "5da45819-a1b5-4bfb-fe2b-2c862b792187"
      },
      "execution_count": null,
      "outputs": [
        {
          "output_type": "stream",
          "name": "stdout",
          "text": [
            "We have 9 indices that have more returns YTD compared to S&P 500 (US) as of 2025-05-01 from 2025-01-01.\n"
          ]
        }
      ]
    },
    {
      "cell_type": "markdown",
      "source": [
        "# Additional:\n",
        "How many of these indexes have better returns than the S&P 500 over 3, 5, and 10 year periods? Do you see the same trend? Note: For simplicity, ignore currency conversion effects."
      ],
      "metadata": {
        "id": "UMhJ8fUXLVcc"
      }
    },
    {
      "cell_type": "code",
      "source": [
        "# 3 years\n",
        "\n",
        "import yfinance as yf\n",
        "import pandas as pd\n",
        "\n",
        "indices = {\n",
        "    \"^GSPC\": \"S&P 500 (US)\",\n",
        "    \"000001.SS\": \"Shanghai Composite (China)\",\n",
        "    \"^HSI\": \"Hang Seng (Hong Kong)\",\n",
        "    \"^AXJO\": \"ASX 200 (Australia)\",\n",
        "    \"^NSEI\": \"Nifty 50 (India)\",\n",
        "    \"^GSPTSE\": \"S&P/TSX (Canada)\",\n",
        "    \"^GDAXI\": \"DAX (Germany)\",\n",
        "    \"^FTSE\": \"FTSE 100 (UK)\",\n",
        "    \"^N225\": \"Nikkei 225 (Japan)\",\n",
        "    \"^MXX\": \"IPC (Mexico)\",\n",
        "    \"^BVSP\": \"Ibovespa (Brazil)\"\n",
        "}\n",
        "\n",
        "returns = {}\n",
        "\n",
        "start_date = \"2022-01-01\"\n",
        "end_date = \"2025-05-01\"\n",
        "\n",
        "for symbol, name in indices.items():\n",
        "    ticker = yf.Ticker(symbol)\n",
        "    data = ticker.history(start=start_date, end=end_date, interval=\"1d\")\n",
        "\n",
        "    if data.empty:\n",
        "        print(f\"No data for {name} ({symbol})\")\n",
        "        continue\n",
        "\n",
        "    start_price = data.iloc[0][\"Close\"]\n",
        "    end_price = data.iloc[-1][\"Close\"]\n",
        "\n",
        "    ytd_return = ((end_price - start_price) / start_price) * 100\n",
        "    returns[name] = round(ytd_return, 2)\n",
        "returns_df = pd.DataFrame.from_dict(returns,orient=\"index\",columns=[\"YTD Return\"])\n",
        "x = returns_df[returns_df[\"YTD Return\"]>round(returns_df.loc[\"S&P 500 (US)\"][\"YTD Return\"],2)].shape[0]\n",
        "print(f'We have {x} indices that have more returns YTD compared to S&P 500 (US) as of {end_date} from {start_date}.')"
      ],
      "metadata": {
        "colab": {
          "base_uri": "https://localhost:8080/"
        },
        "id": "_Y7vMZ7DJXcz",
        "outputId": "cb1ab41d-0074-430e-9001-e8764ed43aec"
      },
      "execution_count": null,
      "outputs": [
        {
          "output_type": "stream",
          "name": "stdout",
          "text": [
            "We have 5 indices that have more returns YTD compared to S&P 500 (US) as of 2025-05-01 from 2022-01-01.\n"
          ]
        }
      ]
    },
    {
      "cell_type": "code",
      "source": [
        "#5 years\n",
        "\n",
        "import yfinance as yf\n",
        "import pandas as pd\n",
        "\n",
        "indices = {\n",
        "    \"^GSPC\": \"S&P 500 (US)\",\n",
        "    \"000001.SS\": \"Shanghai Composite (China)\",\n",
        "    \"^HSI\": \"Hang Seng (Hong Kong)\",\n",
        "    \"^AXJO\": \"ASX 200 (Australia)\",\n",
        "    \"^NSEI\": \"Nifty 50 (India)\",\n",
        "    \"^GSPTSE\": \"S&P/TSX (Canada)\",\n",
        "    \"^GDAXI\": \"DAX (Germany)\",\n",
        "    \"^FTSE\": \"FTSE 100 (UK)\",\n",
        "    \"^N225\": \"Nikkei 225 (Japan)\",\n",
        "    \"^MXX\": \"IPC (Mexico)\",\n",
        "    \"^BVSP\": \"Ibovespa (Brazil)\"\n",
        "}\n",
        "\n",
        "returns = {}\n",
        "\n",
        "start_date = \"2020-01-01\"\n",
        "end_date = \"2025-05-01\"\n",
        "\n",
        "for symbol, name in indices.items():\n",
        "    ticker = yf.Ticker(symbol)\n",
        "    data = ticker.history(start=start_date, end=end_date, interval=\"1d\")\n",
        "\n",
        "    if data.empty:\n",
        "        print(f\"No data for {name} ({symbol})\")\n",
        "        continue\n",
        "\n",
        "    start_price = data.iloc[0][\"Close\"]\n",
        "    end_price = data.iloc[-1][\"Close\"]\n",
        "\n",
        "    ytd_return = ((end_price - start_price) / start_price) * 100\n",
        "    returns[name] = round(ytd_return, 2)\n",
        "returns_df = pd.DataFrame.from_dict(returns,orient=\"index\",columns=[\"YTD Return\"])\n",
        "x = returns_df[returns_df[\"YTD Return\"]>round(returns_df.loc[\"S&P 500 (US)\"][\"YTD Return\"],2)].shape[0]\n",
        "print(f'We have {x} indices that have more returns YTD compared to S&P 500 (US) as of {end_date} from {start_date}.')"
      ],
      "metadata": {
        "colab": {
          "base_uri": "https://localhost:8080/"
        },
        "id": "E9dDz0nlNu25",
        "outputId": "39701bbf-510f-41f1-b68c-95e4ba425a32"
      },
      "execution_count": null,
      "outputs": [
        {
          "output_type": "stream",
          "name": "stdout",
          "text": [
            "We have 1 indices that have more returns YTD compared to S&P 500 (US) as of 2025-05-01 from 2020-01-01.\n"
          ]
        }
      ]
    },
    {
      "cell_type": "code",
      "source": [
        "# 10 years\n",
        "\n",
        "import yfinance as yf\n",
        "import pandas as pd\n",
        "\n",
        "indices = {\n",
        "    \"^GSPC\": \"S&P 500 (US)\",\n",
        "    \"000001.SS\": \"Shanghai Composite (China)\",\n",
        "    \"^HSI\": \"Hang Seng (Hong Kong)\",\n",
        "    \"^AXJO\": \"ASX 200 (Australia)\",\n",
        "    \"^NSEI\": \"Nifty 50 (India)\",\n",
        "    \"^GSPTSE\": \"S&P/TSX (Canada)\",\n",
        "    \"^GDAXI\": \"DAX (Germany)\",\n",
        "    \"^FTSE\": \"FTSE 100 (UK)\",\n",
        "    \"^N225\": \"Nikkei 225 (Japan)\",\n",
        "    \"^MXX\": \"IPC (Mexico)\",\n",
        "    \"^BVSP\": \"Ibovespa (Brazil)\"\n",
        "}\n",
        "\n",
        "returns = {}\n",
        "\n",
        "start_date = \"2015-01-01\"\n",
        "end_date = \"2025-05-01\"\n",
        "\n",
        "for symbol, name in indices.items():\n",
        "    ticker = yf.Ticker(symbol)\n",
        "    data = ticker.history(start=start_date, end=end_date, interval=\"1d\")\n",
        "\n",
        "    if data.empty:\n",
        "        print(f\"No data for {name} ({symbol})\")\n",
        "        continue\n",
        "\n",
        "    start_price = data.iloc[0][\"Close\"]\n",
        "    end_price = data.iloc[-1][\"Close\"]\n",
        "\n",
        "    ytd_return = ((end_price - start_price) / start_price) * 100\n",
        "    returns[name] = round(ytd_return, 2)\n",
        "returns_df = pd.DataFrame.from_dict(returns,orient=\"index\",columns=[\"YTD Return\"])\n",
        "x = returns_df[returns_df[\"YTD Return\"]>round(returns_df.loc[\"S&P 500 (US)\"][\"YTD Return\"],2)].shape[0]\n",
        "print(f'We have {x} indices that have more returns YTD compared to S&P 500 (US) as of {end_date} from {start_date}.')"
      ],
      "metadata": {
        "colab": {
          "base_uri": "https://localhost:8080/"
        },
        "id": "7A2MKe5sN61J",
        "outputId": "8a1eabbd-035a-4439-892d-ce674ad39719"
      },
      "execution_count": null,
      "outputs": [
        {
          "output_type": "stream",
          "name": "stdout",
          "text": [
            "We have 2 indices that have more returns YTD compared to S&P 500 (US) as of 2025-05-01 from 2015-01-01.\n"
          ]
        }
      ]
    },
    {
      "cell_type": "markdown",
      "source": [
        "# Question 3. [Index] S&P 500 Market Corrections Analysis\n",
        "Calculate the median duration (in days) of significant market corrections in the S&P 500 index.\n",
        "\n",
        "For this task, define a correction as an event when a stock index goes down by more than 5% from the closest all-time high maximum.\n",
        "\n",
        "Steps:\n",
        "\n",
        "Download S&P 500 historical data (1950-present) using yfinance\n",
        "Identify all-time high points (where price exceeds all previous prices)\n",
        "For each pair of consecutive all-time highs, find the minimum price in between\n",
        "Calculate drawdown percentages: (high - low) / high × 100\n",
        "Filter for corrections with at least 5% drawdown\n",
        "Calculate the duration in days for each correction period\n",
        "Determine the 25th, 50th (median), and 75th percentiles for correction durations"
      ],
      "metadata": {
        "id": "4CcTavIeOnde"
      }
    },
    {
      "cell_type": "code",
      "source": [
        "import yfinance as yf\n",
        "import pandas as pd\n",
        "import numpy as np\n",
        "import matplotlib.pyplot as plt\n",
        "\n",
        "# Step 1: Download S&P 500 data\n",
        "symbol = \"^GSPC\"\n",
        "data = yf.download(symbol, start=\"1950-01-01\", progress=False)['Close'].dropna()\n",
        "\n",
        "# Step 2: Identify all-time highs\n",
        "ath_series = data.cummax()\n",
        "all_time_highs = data[data == ath_series]\n",
        "\n",
        "# Step 3: Loop through consecutive ATHs\n",
        "correction_durations = []\n",
        "ath_dates = all_time_highs.index.tolist()\n",
        "\n",
        "for i in range(len(ath_dates) - 1):\n",
        "    start_date = ath_dates[i]\n",
        "    end_date = ath_dates[i + 1]\n",
        "\n",
        "    # Slice the segment safely\n",
        "    between = data.loc[start_date:end_date]\n",
        "\n",
        "    if between.empty:\n",
        "        continue\n",
        "\n",
        "    # Get start price (safe method)\n",
        "    start_price = data.get(start_date)\n",
        "    if start_price is None:\n",
        "        continue  # skip if missing\n",
        "\n",
        "    # Get minimum price in the segment\n",
        "    trough_price = between.min()\n",
        "    trough_date = between.idxmin()\n",
        "\n",
        "    drawdown = ((start_price - trough_price) / start_price) * 100\n",
        "\n",
        "    if drawdown >= 5:\n",
        "        duration = (trough_date - start_date).days\n",
        "        correction_durations.append(duration)\n",
        "\n",
        "# Step 4: Analyze durations\n",
        "durations = pd.Series(correction_durations)\n",
        "percentiles = durations.quantile([0.25, 0.5, 0.75])\n",
        "\n",
        "# Step 5: Display stats\n",
        "print(\"📉 S&P 500 Correction Duration Statistics\")\n",
        "print(f\"25th percentile: {percentiles.loc[0.25]:.0f} days\")\n",
        "print(f\"Median (50th):   {percentiles.loc[0.50]:.0f} days\")\n",
        "print(f\"75th percentile: {percentiles.loc[0.75]:.0f} days\")\n",
        "\n",
        "# Optional: Plot histogram\n",
        "durations.plot.hist(bins=20, edgecolor='black', title=\"Correction Durations in Days\")\n",
        "plt.xlabel(\"Duration (days)\")\n",
        "plt.show()"
      ],
      "metadata": {
        "colab": {
          "base_uri": "https://localhost:8080/",
          "height": 443
        },
        "id": "lAV1A-hSPMYB",
        "outputId": "8120e5f5-63ef-4d82-a3db-5ef64ce09f5d"
      },
      "execution_count": null,
      "outputs": [
        {
          "output_type": "stream",
          "name": "stdout",
          "text": [
            "YF.download() has changed argument auto_adjust default to True\n",
            "📉 S&P 500 Correction Duration Statistics\n",
            "25th percentile: nan days\n",
            "Median (50th):   nan days\n",
            "75th percentile: nan days\n"
          ]
        },
        {
          "output_type": "error",
          "ename": "TypeError",
          "evalue": "no numeric data to plot",
          "traceback": [
            "\u001b[0;31m---------------------------------------------------------------------------\u001b[0m",
            "\u001b[0;31mTypeError\u001b[0m                                 Traceback (most recent call last)",
            "\u001b[0;32m<ipython-input-3-57ee780a3ba6>\u001b[0m in \u001b[0;36m<cell line: 0>\u001b[0;34m()\u001b[0m\n\u001b[1;32m     52\u001b[0m \u001b[0;34m\u001b[0m\u001b[0m\n\u001b[1;32m     53\u001b[0m \u001b[0;31m# Optional: Plot histogram\u001b[0m\u001b[0;34m\u001b[0m\u001b[0;34m\u001b[0m\u001b[0m\n\u001b[0;32m---> 54\u001b[0;31m \u001b[0mdurations\u001b[0m\u001b[0;34m.\u001b[0m\u001b[0mplot\u001b[0m\u001b[0;34m.\u001b[0m\u001b[0mhist\u001b[0m\u001b[0;34m(\u001b[0m\u001b[0mbins\u001b[0m\u001b[0;34m=\u001b[0m\u001b[0;36m20\u001b[0m\u001b[0;34m,\u001b[0m \u001b[0medgecolor\u001b[0m\u001b[0;34m=\u001b[0m\u001b[0;34m'black'\u001b[0m\u001b[0;34m,\u001b[0m \u001b[0mtitle\u001b[0m\u001b[0;34m=\u001b[0m\u001b[0;34m\"Correction Durations in Days\"\u001b[0m\u001b[0;34m)\u001b[0m\u001b[0;34m\u001b[0m\u001b[0;34m\u001b[0m\u001b[0m\n\u001b[0m\u001b[1;32m     55\u001b[0m \u001b[0mplt\u001b[0m\u001b[0;34m.\u001b[0m\u001b[0mxlabel\u001b[0m\u001b[0;34m(\u001b[0m\u001b[0;34m\"Duration (days)\"\u001b[0m\u001b[0;34m)\u001b[0m\u001b[0;34m\u001b[0m\u001b[0;34m\u001b[0m\u001b[0m\n\u001b[1;32m     56\u001b[0m \u001b[0mplt\u001b[0m\u001b[0;34m.\u001b[0m\u001b[0mshow\u001b[0m\u001b[0;34m(\u001b[0m\u001b[0;34m)\u001b[0m\u001b[0;34m\u001b[0m\u001b[0;34m\u001b[0m\u001b[0m\n",
            "\u001b[0;32m/usr/local/lib/python3.11/dist-packages/pandas/plotting/_core.py\u001b[0m in \u001b[0;36mhist\u001b[0;34m(self, by, bins, **kwargs)\u001b[0m\n\u001b[1;32m   1407\u001b[0m             \u001b[0;34m>>\u001b[0m\u001b[0;34m>\u001b[0m \u001b[0max\u001b[0m \u001b[0;34m=\u001b[0m \u001b[0mdf\u001b[0m\u001b[0;34m.\u001b[0m\u001b[0mplot\u001b[0m\u001b[0;34m.\u001b[0m\u001b[0mhist\u001b[0m\u001b[0;34m(\u001b[0m\u001b[0mcolumn\u001b[0m\u001b[0;34m=\u001b[0m\u001b[0;34m[\u001b[0m\u001b[0;34m\"age\"\u001b[0m\u001b[0;34m]\u001b[0m\u001b[0;34m,\u001b[0m \u001b[0mby\u001b[0m\u001b[0;34m=\u001b[0m\u001b[0;34m\"gender\"\u001b[0m\u001b[0;34m,\u001b[0m \u001b[0mfigsize\u001b[0m\u001b[0;34m=\u001b[0m\u001b[0;34m(\u001b[0m\u001b[0;36m10\u001b[0m\u001b[0;34m,\u001b[0m \u001b[0;36m8\u001b[0m\u001b[0;34m)\u001b[0m\u001b[0;34m)\u001b[0m\u001b[0;34m\u001b[0m\u001b[0;34m\u001b[0m\u001b[0m\n\u001b[1;32m   1408\u001b[0m         \"\"\"\n\u001b[0;32m-> 1409\u001b[0;31m         \u001b[0;32mreturn\u001b[0m \u001b[0mself\u001b[0m\u001b[0;34m(\u001b[0m\u001b[0mkind\u001b[0m\u001b[0;34m=\u001b[0m\u001b[0;34m\"hist\"\u001b[0m\u001b[0;34m,\u001b[0m \u001b[0mby\u001b[0m\u001b[0;34m=\u001b[0m\u001b[0mby\u001b[0m\u001b[0;34m,\u001b[0m \u001b[0mbins\u001b[0m\u001b[0;34m=\u001b[0m\u001b[0mbins\u001b[0m\u001b[0;34m,\u001b[0m \u001b[0;34m**\u001b[0m\u001b[0mkwargs\u001b[0m\u001b[0;34m)\u001b[0m\u001b[0;34m\u001b[0m\u001b[0;34m\u001b[0m\u001b[0m\n\u001b[0m\u001b[1;32m   1410\u001b[0m \u001b[0;34m\u001b[0m\u001b[0m\n\u001b[1;32m   1411\u001b[0m     def kde(\n",
            "\u001b[0;32m/usr/local/lib/python3.11/dist-packages/pandas/plotting/_core.py\u001b[0m in \u001b[0;36m__call__\u001b[0;34m(self, *args, **kwargs)\u001b[0m\n\u001b[1;32m   1028\u001b[0m                     \u001b[0mdata\u001b[0m\u001b[0;34m.\u001b[0m\u001b[0mcolumns\u001b[0m \u001b[0;34m=\u001b[0m \u001b[0mlabel_name\u001b[0m\u001b[0;34m\u001b[0m\u001b[0;34m\u001b[0m\u001b[0m\n\u001b[1;32m   1029\u001b[0m \u001b[0;34m\u001b[0m\u001b[0m\n\u001b[0;32m-> 1030\u001b[0;31m         \u001b[0;32mreturn\u001b[0m \u001b[0mplot_backend\u001b[0m\u001b[0;34m.\u001b[0m\u001b[0mplot\u001b[0m\u001b[0;34m(\u001b[0m\u001b[0mdata\u001b[0m\u001b[0;34m,\u001b[0m \u001b[0mkind\u001b[0m\u001b[0;34m=\u001b[0m\u001b[0mkind\u001b[0m\u001b[0;34m,\u001b[0m \u001b[0;34m**\u001b[0m\u001b[0mkwargs\u001b[0m\u001b[0;34m)\u001b[0m\u001b[0;34m\u001b[0m\u001b[0;34m\u001b[0m\u001b[0m\n\u001b[0m\u001b[1;32m   1031\u001b[0m \u001b[0;34m\u001b[0m\u001b[0m\n\u001b[1;32m   1032\u001b[0m     \u001b[0m__call__\u001b[0m\u001b[0;34m.\u001b[0m\u001b[0m__doc__\u001b[0m \u001b[0;34m=\u001b[0m \u001b[0m__doc__\u001b[0m\u001b[0;34m\u001b[0m\u001b[0;34m\u001b[0m\u001b[0m\n",
            "\u001b[0;32m/usr/local/lib/python3.11/dist-packages/pandas/plotting/_matplotlib/__init__.py\u001b[0m in \u001b[0;36mplot\u001b[0;34m(data, kind, **kwargs)\u001b[0m\n\u001b[1;32m     69\u001b[0m             \u001b[0mkwargs\u001b[0m\u001b[0;34m[\u001b[0m\u001b[0;34m\"ax\"\u001b[0m\u001b[0;34m]\u001b[0m \u001b[0;34m=\u001b[0m \u001b[0mgetattr\u001b[0m\u001b[0;34m(\u001b[0m\u001b[0max\u001b[0m\u001b[0;34m,\u001b[0m \u001b[0;34m\"left_ax\"\u001b[0m\u001b[0;34m,\u001b[0m \u001b[0max\u001b[0m\u001b[0;34m)\u001b[0m\u001b[0;34m\u001b[0m\u001b[0;34m\u001b[0m\u001b[0m\n\u001b[1;32m     70\u001b[0m     \u001b[0mplot_obj\u001b[0m \u001b[0;34m=\u001b[0m \u001b[0mPLOT_CLASSES\u001b[0m\u001b[0;34m[\u001b[0m\u001b[0mkind\u001b[0m\u001b[0;34m]\u001b[0m\u001b[0;34m(\u001b[0m\u001b[0mdata\u001b[0m\u001b[0;34m,\u001b[0m \u001b[0;34m**\u001b[0m\u001b[0mkwargs\u001b[0m\u001b[0;34m)\u001b[0m\u001b[0;34m\u001b[0m\u001b[0;34m\u001b[0m\u001b[0m\n\u001b[0;32m---> 71\u001b[0;31m     \u001b[0mplot_obj\u001b[0m\u001b[0;34m.\u001b[0m\u001b[0mgenerate\u001b[0m\u001b[0;34m(\u001b[0m\u001b[0;34m)\u001b[0m\u001b[0;34m\u001b[0m\u001b[0;34m\u001b[0m\u001b[0m\n\u001b[0m\u001b[1;32m     72\u001b[0m     \u001b[0mplot_obj\u001b[0m\u001b[0;34m.\u001b[0m\u001b[0mdraw\u001b[0m\u001b[0;34m(\u001b[0m\u001b[0;34m)\u001b[0m\u001b[0;34m\u001b[0m\u001b[0;34m\u001b[0m\u001b[0m\n\u001b[1;32m     73\u001b[0m     \u001b[0;32mreturn\u001b[0m \u001b[0mplot_obj\u001b[0m\u001b[0;34m.\u001b[0m\u001b[0mresult\u001b[0m\u001b[0;34m\u001b[0m\u001b[0;34m\u001b[0m\u001b[0m\n",
            "\u001b[0;32m/usr/local/lib/python3.11/dist-packages/pandas/plotting/_matplotlib/core.py\u001b[0m in \u001b[0;36mgenerate\u001b[0;34m(self)\u001b[0m\n\u001b[1;32m    497\u001b[0m     \u001b[0;34m@\u001b[0m\u001b[0mfinal\u001b[0m\u001b[0;34m\u001b[0m\u001b[0;34m\u001b[0m\u001b[0m\n\u001b[1;32m    498\u001b[0m     \u001b[0;32mdef\u001b[0m \u001b[0mgenerate\u001b[0m\u001b[0;34m(\u001b[0m\u001b[0mself\u001b[0m\u001b[0;34m)\u001b[0m \u001b[0;34m->\u001b[0m \u001b[0;32mNone\u001b[0m\u001b[0;34m:\u001b[0m\u001b[0;34m\u001b[0m\u001b[0;34m\u001b[0m\u001b[0m\n\u001b[0;32m--> 499\u001b[0;31m         \u001b[0mself\u001b[0m\u001b[0;34m.\u001b[0m\u001b[0m_compute_plot_data\u001b[0m\u001b[0;34m(\u001b[0m\u001b[0;34m)\u001b[0m\u001b[0;34m\u001b[0m\u001b[0;34m\u001b[0m\u001b[0m\n\u001b[0m\u001b[1;32m    500\u001b[0m         \u001b[0mfig\u001b[0m \u001b[0;34m=\u001b[0m \u001b[0mself\u001b[0m\u001b[0;34m.\u001b[0m\u001b[0mfig\u001b[0m\u001b[0;34m\u001b[0m\u001b[0;34m\u001b[0m\u001b[0m\n\u001b[1;32m    501\u001b[0m         \u001b[0mself\u001b[0m\u001b[0;34m.\u001b[0m\u001b[0m_make_plot\u001b[0m\u001b[0;34m(\u001b[0m\u001b[0mfig\u001b[0m\u001b[0;34m)\u001b[0m\u001b[0;34m\u001b[0m\u001b[0;34m\u001b[0m\u001b[0m\n",
            "\u001b[0;32m/usr/local/lib/python3.11/dist-packages/pandas/plotting/_matplotlib/core.py\u001b[0m in \u001b[0;36m_compute_plot_data\u001b[0;34m(self)\u001b[0m\n\u001b[1;32m    696\u001b[0m         \u001b[0;31m# no non-numeric frames or series allowed\u001b[0m\u001b[0;34m\u001b[0m\u001b[0;34m\u001b[0m\u001b[0m\n\u001b[1;32m    697\u001b[0m         \u001b[0;32mif\u001b[0m \u001b[0mis_empty\u001b[0m\u001b[0;34m:\u001b[0m\u001b[0;34m\u001b[0m\u001b[0;34m\u001b[0m\u001b[0m\n\u001b[0;32m--> 698\u001b[0;31m             \u001b[0;32mraise\u001b[0m \u001b[0mTypeError\u001b[0m\u001b[0;34m(\u001b[0m\u001b[0;34m\"no numeric data to plot\"\u001b[0m\u001b[0;34m)\u001b[0m\u001b[0;34m\u001b[0m\u001b[0;34m\u001b[0m\u001b[0m\n\u001b[0m\u001b[1;32m    699\u001b[0m \u001b[0;34m\u001b[0m\u001b[0m\n\u001b[1;32m    700\u001b[0m         \u001b[0mself\u001b[0m\u001b[0;34m.\u001b[0m\u001b[0mdata\u001b[0m \u001b[0;34m=\u001b[0m \u001b[0mnumeric_data\u001b[0m\u001b[0;34m.\u001b[0m\u001b[0mapply\u001b[0m\u001b[0;34m(\u001b[0m\u001b[0mtype\u001b[0m\u001b[0;34m(\u001b[0m\u001b[0mself\u001b[0m\u001b[0;34m)\u001b[0m\u001b[0;34m.\u001b[0m\u001b[0m_convert_to_ndarray\u001b[0m\u001b[0;34m)\u001b[0m\u001b[0;34m\u001b[0m\u001b[0;34m\u001b[0m\u001b[0m\n",
            "\u001b[0;31mTypeError\u001b[0m: no numeric data to plot"
          ]
        }
      ]
    },
    {
      "cell_type": "markdown",
      "source": [
        "# Question 4. [Stocks] Earnings Surprise Analysis for Amazon (AMZN)\n",
        "Calculate the median 2-day percentage change in stock prices following positive earnings surprises days.\n",
        "\n",
        "Steps:\n",
        "\n",
        "Load earnings data from CSV ([ha1_Amazon.csv](https://github.com/DataTalksClub/stock-markets-analytics-zoomcamp/blob/main/cohorts/2025/ha1_Amazon.csv)) containing earnings dates, EPS estimates, and actual EPS\n",
        "Download complete historical price data using yfinance\n",
        "Calculate 2-day percentage changes for all historical dates: for each sequence of 3 consecutive trading days (Day 1, Day 2, Day 3), compute the return as Close_Day3 / Close_Day1 - 1. (Assume Day 2 may correspond to the earnings announcement.)\n",
        "Identify positive earnings surprises (where \"actual EPS > estimated EPS\" OR \"Surprise (%)>0\")\n",
        "Calculate 2-day percentage changes following positive earnings surprises\n",
        "Compare the median 2-day percentage change for positive surprises vs. all historical dates"
      ],
      "metadata": {
        "id": "yao8KHnlRC-4"
      }
    },
    {
      "cell_type": "code",
      "source": [
        "import pandas as pd\n",
        "df = pd.read_csv(\"/content/ha1_Amazon.csv\", on_bad_lines='skip',delimiter=\";\")\n",
        "df.dropna(inplace=True,how=\"all\")\n",
        "df.tail()"
      ],
      "metadata": {
        "colab": {
          "base_uri": "https://localhost:8080/",
          "height": 206
        },
        "id": "y3AZG7FORZj4",
        "outputId": "8df5a26b-9b0d-43ee-ab4a-436731467c19"
      },
      "execution_count": null,
      "outputs": [
        {
          "output_type": "execute_result",
          "data": {
            "text/plain": [
              "    Symbol           Company                  Earnings Date EPS Estimate  \\\n",
              "111   AMZN  Amazon.com, Inc.     July 22, 1998 at 12 AM EDT            -   \n",
              "112   AMZN  Amazon.com, Inc.    April 27, 1998 at 12 AM EDT            -   \n",
              "113   AMZN  Amazon.com, Inc.  January 22, 1998 at 12 AM EST            -   \n",
              "114   AMZN  Amazon.com, Inc.  October 27, 1997 at 12 AM EST            -   \n",
              "115   AMZN  Amazon.com, Inc.     July 10, 1997 at 12 AM EDT            -   \n",
              "\n",
              "    Reported EPS Surprise (%)  \n",
              "111            -        +1.34  \n",
              "112            -       +13.92  \n",
              "113            -       +11.41  \n",
              "114            -       +13.29  \n",
              "115            -       +13.33  "
            ],
            "text/html": [
              "\n",
              "  <div id=\"df-a8f99822-311f-43cb-abca-61677e057bff\" class=\"colab-df-container\">\n",
              "    <div>\n",
              "<style scoped>\n",
              "    .dataframe tbody tr th:only-of-type {\n",
              "        vertical-align: middle;\n",
              "    }\n",
              "\n",
              "    .dataframe tbody tr th {\n",
              "        vertical-align: top;\n",
              "    }\n",
              "\n",
              "    .dataframe thead th {\n",
              "        text-align: right;\n",
              "    }\n",
              "</style>\n",
              "<table border=\"1\" class=\"dataframe\">\n",
              "  <thead>\n",
              "    <tr style=\"text-align: right;\">\n",
              "      <th></th>\n",
              "      <th>Symbol</th>\n",
              "      <th>Company</th>\n",
              "      <th>Earnings Date</th>\n",
              "      <th>EPS Estimate</th>\n",
              "      <th>Reported EPS</th>\n",
              "      <th>Surprise (%)</th>\n",
              "    </tr>\n",
              "  </thead>\n",
              "  <tbody>\n",
              "    <tr>\n",
              "      <th>111</th>\n",
              "      <td>AMZN</td>\n",
              "      <td>Amazon.com, Inc.</td>\n",
              "      <td>July 22, 1998 at 12 AM EDT</td>\n",
              "      <td>-</td>\n",
              "      <td>-</td>\n",
              "      <td>+1.34</td>\n",
              "    </tr>\n",
              "    <tr>\n",
              "      <th>112</th>\n",
              "      <td>AMZN</td>\n",
              "      <td>Amazon.com, Inc.</td>\n",
              "      <td>April 27, 1998 at 12 AM EDT</td>\n",
              "      <td>-</td>\n",
              "      <td>-</td>\n",
              "      <td>+13.92</td>\n",
              "    </tr>\n",
              "    <tr>\n",
              "      <th>113</th>\n",
              "      <td>AMZN</td>\n",
              "      <td>Amazon.com, Inc.</td>\n",
              "      <td>January 22, 1998 at 12 AM EST</td>\n",
              "      <td>-</td>\n",
              "      <td>-</td>\n",
              "      <td>+11.41</td>\n",
              "    </tr>\n",
              "    <tr>\n",
              "      <th>114</th>\n",
              "      <td>AMZN</td>\n",
              "      <td>Amazon.com, Inc.</td>\n",
              "      <td>October 27, 1997 at 12 AM EST</td>\n",
              "      <td>-</td>\n",
              "      <td>-</td>\n",
              "      <td>+13.29</td>\n",
              "    </tr>\n",
              "    <tr>\n",
              "      <th>115</th>\n",
              "      <td>AMZN</td>\n",
              "      <td>Amazon.com, Inc.</td>\n",
              "      <td>July 10, 1997 at 12 AM EDT</td>\n",
              "      <td>-</td>\n",
              "      <td>-</td>\n",
              "      <td>+13.33</td>\n",
              "    </tr>\n",
              "  </tbody>\n",
              "</table>\n",
              "</div>\n",
              "    <div class=\"colab-df-buttons\">\n",
              "\n",
              "  <div class=\"colab-df-container\">\n",
              "    <button class=\"colab-df-convert\" onclick=\"convertToInteractive('df-a8f99822-311f-43cb-abca-61677e057bff')\"\n",
              "            title=\"Convert this dataframe to an interactive table.\"\n",
              "            style=\"display:none;\">\n",
              "\n",
              "  <svg xmlns=\"http://www.w3.org/2000/svg\" height=\"24px\" viewBox=\"0 -960 960 960\">\n",
              "    <path d=\"M120-120v-720h720v720H120Zm60-500h600v-160H180v160Zm220 220h160v-160H400v160Zm0 220h160v-160H400v160ZM180-400h160v-160H180v160Zm440 0h160v-160H620v160ZM180-180h160v-160H180v160Zm440 0h160v-160H620v160Z\"/>\n",
              "  </svg>\n",
              "    </button>\n",
              "\n",
              "  <style>\n",
              "    .colab-df-container {\n",
              "      display:flex;\n",
              "      gap: 12px;\n",
              "    }\n",
              "\n",
              "    .colab-df-convert {\n",
              "      background-color: #E8F0FE;\n",
              "      border: none;\n",
              "      border-radius: 50%;\n",
              "      cursor: pointer;\n",
              "      display: none;\n",
              "      fill: #1967D2;\n",
              "      height: 32px;\n",
              "      padding: 0 0 0 0;\n",
              "      width: 32px;\n",
              "    }\n",
              "\n",
              "    .colab-df-convert:hover {\n",
              "      background-color: #E2EBFA;\n",
              "      box-shadow: 0px 1px 2px rgba(60, 64, 67, 0.3), 0px 1px 3px 1px rgba(60, 64, 67, 0.15);\n",
              "      fill: #174EA6;\n",
              "    }\n",
              "\n",
              "    .colab-df-buttons div {\n",
              "      margin-bottom: 4px;\n",
              "    }\n",
              "\n",
              "    [theme=dark] .colab-df-convert {\n",
              "      background-color: #3B4455;\n",
              "      fill: #D2E3FC;\n",
              "    }\n",
              "\n",
              "    [theme=dark] .colab-df-convert:hover {\n",
              "      background-color: #434B5C;\n",
              "      box-shadow: 0px 1px 3px 1px rgba(0, 0, 0, 0.15);\n",
              "      filter: drop-shadow(0px 1px 2px rgba(0, 0, 0, 0.3));\n",
              "      fill: #FFFFFF;\n",
              "    }\n",
              "  </style>\n",
              "\n",
              "    <script>\n",
              "      const buttonEl =\n",
              "        document.querySelector('#df-a8f99822-311f-43cb-abca-61677e057bff button.colab-df-convert');\n",
              "      buttonEl.style.display =\n",
              "        google.colab.kernel.accessAllowed ? 'block' : 'none';\n",
              "\n",
              "      async function convertToInteractive(key) {\n",
              "        const element = document.querySelector('#df-a8f99822-311f-43cb-abca-61677e057bff');\n",
              "        const dataTable =\n",
              "          await google.colab.kernel.invokeFunction('convertToInteractive',\n",
              "                                                    [key], {});\n",
              "        if (!dataTable) return;\n",
              "\n",
              "        const docLinkHtml = 'Like what you see? Visit the ' +\n",
              "          '<a target=\"_blank\" href=https://colab.research.google.com/notebooks/data_table.ipynb>data table notebook</a>'\n",
              "          + ' to learn more about interactive tables.';\n",
              "        element.innerHTML = '';\n",
              "        dataTable['output_type'] = 'display_data';\n",
              "        await google.colab.output.renderOutput(dataTable, element);\n",
              "        const docLink = document.createElement('div');\n",
              "        docLink.innerHTML = docLinkHtml;\n",
              "        element.appendChild(docLink);\n",
              "      }\n",
              "    </script>\n",
              "  </div>\n",
              "\n",
              "\n",
              "    <div id=\"df-0297d7a1-6462-44c4-810e-1b6fc74e316b\">\n",
              "      <button class=\"colab-df-quickchart\" onclick=\"quickchart('df-0297d7a1-6462-44c4-810e-1b6fc74e316b')\"\n",
              "                title=\"Suggest charts\"\n",
              "                style=\"display:none;\">\n",
              "\n",
              "<svg xmlns=\"http://www.w3.org/2000/svg\" height=\"24px\"viewBox=\"0 0 24 24\"\n",
              "     width=\"24px\">\n",
              "    <g>\n",
              "        <path d=\"M19 3H5c-1.1 0-2 .9-2 2v14c0 1.1.9 2 2 2h14c1.1 0 2-.9 2-2V5c0-1.1-.9-2-2-2zM9 17H7v-7h2v7zm4 0h-2V7h2v10zm4 0h-2v-4h2v4z\"/>\n",
              "    </g>\n",
              "</svg>\n",
              "      </button>\n",
              "\n",
              "<style>\n",
              "  .colab-df-quickchart {\n",
              "      --bg-color: #E8F0FE;\n",
              "      --fill-color: #1967D2;\n",
              "      --hover-bg-color: #E2EBFA;\n",
              "      --hover-fill-color: #174EA6;\n",
              "      --disabled-fill-color: #AAA;\n",
              "      --disabled-bg-color: #DDD;\n",
              "  }\n",
              "\n",
              "  [theme=dark] .colab-df-quickchart {\n",
              "      --bg-color: #3B4455;\n",
              "      --fill-color: #D2E3FC;\n",
              "      --hover-bg-color: #434B5C;\n",
              "      --hover-fill-color: #FFFFFF;\n",
              "      --disabled-bg-color: #3B4455;\n",
              "      --disabled-fill-color: #666;\n",
              "  }\n",
              "\n",
              "  .colab-df-quickchart {\n",
              "    background-color: var(--bg-color);\n",
              "    border: none;\n",
              "    border-radius: 50%;\n",
              "    cursor: pointer;\n",
              "    display: none;\n",
              "    fill: var(--fill-color);\n",
              "    height: 32px;\n",
              "    padding: 0;\n",
              "    width: 32px;\n",
              "  }\n",
              "\n",
              "  .colab-df-quickchart:hover {\n",
              "    background-color: var(--hover-bg-color);\n",
              "    box-shadow: 0 1px 2px rgba(60, 64, 67, 0.3), 0 1px 3px 1px rgba(60, 64, 67, 0.15);\n",
              "    fill: var(--button-hover-fill-color);\n",
              "  }\n",
              "\n",
              "  .colab-df-quickchart-complete:disabled,\n",
              "  .colab-df-quickchart-complete:disabled:hover {\n",
              "    background-color: var(--disabled-bg-color);\n",
              "    fill: var(--disabled-fill-color);\n",
              "    box-shadow: none;\n",
              "  }\n",
              "\n",
              "  .colab-df-spinner {\n",
              "    border: 2px solid var(--fill-color);\n",
              "    border-color: transparent;\n",
              "    border-bottom-color: var(--fill-color);\n",
              "    animation:\n",
              "      spin 1s steps(1) infinite;\n",
              "  }\n",
              "\n",
              "  @keyframes spin {\n",
              "    0% {\n",
              "      border-color: transparent;\n",
              "      border-bottom-color: var(--fill-color);\n",
              "      border-left-color: var(--fill-color);\n",
              "    }\n",
              "    20% {\n",
              "      border-color: transparent;\n",
              "      border-left-color: var(--fill-color);\n",
              "      border-top-color: var(--fill-color);\n",
              "    }\n",
              "    30% {\n",
              "      border-color: transparent;\n",
              "      border-left-color: var(--fill-color);\n",
              "      border-top-color: var(--fill-color);\n",
              "      border-right-color: var(--fill-color);\n",
              "    }\n",
              "    40% {\n",
              "      border-color: transparent;\n",
              "      border-right-color: var(--fill-color);\n",
              "      border-top-color: var(--fill-color);\n",
              "    }\n",
              "    60% {\n",
              "      border-color: transparent;\n",
              "      border-right-color: var(--fill-color);\n",
              "    }\n",
              "    80% {\n",
              "      border-color: transparent;\n",
              "      border-right-color: var(--fill-color);\n",
              "      border-bottom-color: var(--fill-color);\n",
              "    }\n",
              "    90% {\n",
              "      border-color: transparent;\n",
              "      border-bottom-color: var(--fill-color);\n",
              "    }\n",
              "  }\n",
              "</style>\n",
              "\n",
              "      <script>\n",
              "        async function quickchart(key) {\n",
              "          const quickchartButtonEl =\n",
              "            document.querySelector('#' + key + ' button');\n",
              "          quickchartButtonEl.disabled = true;  // To prevent multiple clicks.\n",
              "          quickchartButtonEl.classList.add('colab-df-spinner');\n",
              "          try {\n",
              "            const charts = await google.colab.kernel.invokeFunction(\n",
              "                'suggestCharts', [key], {});\n",
              "          } catch (error) {\n",
              "            console.error('Error during call to suggestCharts:', error);\n",
              "          }\n",
              "          quickchartButtonEl.classList.remove('colab-df-spinner');\n",
              "          quickchartButtonEl.classList.add('colab-df-quickchart-complete');\n",
              "        }\n",
              "        (() => {\n",
              "          let quickchartButtonEl =\n",
              "            document.querySelector('#df-0297d7a1-6462-44c4-810e-1b6fc74e316b button');\n",
              "          quickchartButtonEl.style.display =\n",
              "            google.colab.kernel.accessAllowed ? 'block' : 'none';\n",
              "        })();\n",
              "      </script>\n",
              "    </div>\n",
              "\n",
              "    </div>\n",
              "  </div>\n"
            ],
            "application/vnd.google.colaboratory.intrinsic+json": {
              "type": "dataframe",
              "repr_error": "0"
            }
          },
          "metadata": {},
          "execution_count": 2
        }
      ]
    }
  ]
}